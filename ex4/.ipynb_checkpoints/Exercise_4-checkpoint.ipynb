{
 "cells": [
  {
   "cell_type": "markdown",
   "metadata": {
    "id": "fsJxaHIH-PDa"
   },
   "source": [
    "## Exercise 4: Correlations and preprocessing\n",
    "\n",
    "Before we start applying machine learning algorithms, we want to have a look at further preprocessing and analyzing steps. To do so, this exercise will mainly deal with scaling, dimensionality reduction, correlation measures and the distribution of data points."
   ]
  },
  {
   "cell_type": "code",
   "execution_count": 4,
   "metadata": {
    "id": "l8-LFtWl-PDc"
   },
   "outputs": [],
   "source": [
    "import numpy as np\n",
    "import pandas as pd\n",
    "import matplotlib.pyplot as plt\n",
    "from scipy.stats import norm\n",
    "from scipy.stats import pearsonr\n",
    "\n",
    "from sklearn.decomposition import PCA\n",
    "from sklearn.preprocessing import scale"
   ]
  },
  {
   "cell_type": "code",
   "execution_count": 5,
   "metadata": {
    "id": "ddLad0b--PDd"
   },
   "outputs": [
    {
     "data": {
      "text/html": [
       "<div>\n",
       "<style scoped>\n",
       "    .dataframe tbody tr th:only-of-type {\n",
       "        vertical-align: middle;\n",
       "    }\n",
       "\n",
       "    .dataframe tbody tr th {\n",
       "        vertical-align: top;\n",
       "    }\n",
       "\n",
       "    .dataframe thead th {\n",
       "        text-align: right;\n",
       "    }\n",
       "</style>\n",
       "<table border=\"1\" class=\"dataframe\">\n",
       "  <thead>\n",
       "    <tr style=\"text-align: right;\">\n",
       "      <th></th>\n",
       "      <th>short_name</th>\n",
       "      <th>goalkeeping_handling</th>\n",
       "      <th>goalkeeping_positioning</th>\n",
       "      <th>height_cm</th>\n",
       "      <th>gk_speed</th>\n",
       "      <th>defending</th>\n",
       "    </tr>\n",
       "  </thead>\n",
       "  <tbody>\n",
       "    <tr>\n",
       "      <th>0</th>\n",
       "      <td>L. Messi</td>\n",
       "      <td>11</td>\n",
       "      <td>14</td>\n",
       "      <td>170</td>\n",
       "      <td>NaN</td>\n",
       "      <td>39.0</td>\n",
       "    </tr>\n",
       "    <tr>\n",
       "      <th>1</th>\n",
       "      <td>Cristiano Ronaldo</td>\n",
       "      <td>11</td>\n",
       "      <td>14</td>\n",
       "      <td>187</td>\n",
       "      <td>NaN</td>\n",
       "      <td>35.0</td>\n",
       "    </tr>\n",
       "    <tr>\n",
       "      <th>2</th>\n",
       "      <td>Neymar Jr</td>\n",
       "      <td>9</td>\n",
       "      <td>15</td>\n",
       "      <td>175</td>\n",
       "      <td>NaN</td>\n",
       "      <td>32.0</td>\n",
       "    </tr>\n",
       "    <tr>\n",
       "      <th>3</th>\n",
       "      <td>J. Oblak</td>\n",
       "      <td>92</td>\n",
       "      <td>90</td>\n",
       "      <td>188</td>\n",
       "      <td>52.0</td>\n",
       "      <td>NaN</td>\n",
       "    </tr>\n",
       "    <tr>\n",
       "      <th>4</th>\n",
       "      <td>E. Hazard</td>\n",
       "      <td>12</td>\n",
       "      <td>8</td>\n",
       "      <td>175</td>\n",
       "      <td>NaN</td>\n",
       "      <td>35.0</td>\n",
       "    </tr>\n",
       "    <tr>\n",
       "      <th>...</th>\n",
       "      <td>...</td>\n",
       "      <td>...</td>\n",
       "      <td>...</td>\n",
       "      <td>...</td>\n",
       "      <td>...</td>\n",
       "      <td>...</td>\n",
       "    </tr>\n",
       "    <tr>\n",
       "      <th>18273</th>\n",
       "      <td>Shao Shuai</td>\n",
       "      <td>5</td>\n",
       "      <td>5</td>\n",
       "      <td>186</td>\n",
       "      <td>NaN</td>\n",
       "      <td>47.0</td>\n",
       "    </tr>\n",
       "    <tr>\n",
       "      <th>18274</th>\n",
       "      <td>Xiao Mingjie</td>\n",
       "      <td>6</td>\n",
       "      <td>11</td>\n",
       "      <td>177</td>\n",
       "      <td>NaN</td>\n",
       "      <td>48.0</td>\n",
       "    </tr>\n",
       "    <tr>\n",
       "      <th>18275</th>\n",
       "      <td>Zhang Wei</td>\n",
       "      <td>8</td>\n",
       "      <td>6</td>\n",
       "      <td>186</td>\n",
       "      <td>NaN</td>\n",
       "      <td>48.0</td>\n",
       "    </tr>\n",
       "    <tr>\n",
       "      <th>18276</th>\n",
       "      <td>Wang Haijian</td>\n",
       "      <td>9</td>\n",
       "      <td>13</td>\n",
       "      <td>185</td>\n",
       "      <td>NaN</td>\n",
       "      <td>45.0</td>\n",
       "    </tr>\n",
       "    <tr>\n",
       "      <th>18277</th>\n",
       "      <td>Pan Ximing</td>\n",
       "      <td>12</td>\n",
       "      <td>9</td>\n",
       "      <td>182</td>\n",
       "      <td>NaN</td>\n",
       "      <td>47.0</td>\n",
       "    </tr>\n",
       "  </tbody>\n",
       "</table>\n",
       "<p>18278 rows × 6 columns</p>\n",
       "</div>"
      ],
      "text/plain": [
       "              short_name  goalkeeping_handling  goalkeeping_positioning  \\\n",
       "0               L. Messi                    11                       14   \n",
       "1      Cristiano Ronaldo                    11                       14   \n",
       "2              Neymar Jr                     9                       15   \n",
       "3               J. Oblak                    92                       90   \n",
       "4              E. Hazard                    12                        8   \n",
       "...                  ...                   ...                      ...   \n",
       "18273         Shao Shuai                     5                        5   \n",
       "18274       Xiao Mingjie                     6                       11   \n",
       "18275          Zhang Wei                     8                        6   \n",
       "18276       Wang Haijian                     9                       13   \n",
       "18277         Pan Ximing                    12                        9   \n",
       "\n",
       "       height_cm  gk_speed  defending  \n",
       "0            170       NaN       39.0  \n",
       "1            187       NaN       35.0  \n",
       "2            175       NaN       32.0  \n",
       "3            188      52.0        NaN  \n",
       "4            175       NaN       35.0  \n",
       "...          ...       ...        ...  \n",
       "18273        186       NaN       47.0  \n",
       "18274        177       NaN       48.0  \n",
       "18275        186       NaN       48.0  \n",
       "18276        185       NaN       45.0  \n",
       "18277        182       NaN       47.0  \n",
       "\n",
       "[18278 rows x 6 columns]"
      ]
     },
     "execution_count": 5,
     "metadata": {},
     "output_type": "execute_result"
    }
   ],
   "source": [
    "# df = pd.read_csv('data/players_20.csv')#Change path according to your files\n",
    "csv = pd.read_csv('data/fifa_20.csv')#Assuming fifa_20 and players_20.csv are same file\n",
    "\n",
    "df = csv.copy(deep=False)\n",
    "df[['short_name','goalkeeping_handling', 'goalkeeping_positioning', 'height_cm', 'gk_speed', 'defending']]"
   ]
  },
  {
   "cell_type": "markdown",
   "metadata": {
    "id": "ovkRZCPX-PDd"
   },
   "source": [
    "### correlation vs. causality\n",
    "\n",
    "A common step in data analytics is to investigate correlations between variables. Sometimes these correlations might or might not be derivable from obvious causalities. Create scatter plots of the feature pair 'goalkeeping_handling' and 'goalkeeping_positioning' and the feature pair 'height_cm' and 'gk_speed'. Do not forget to name the axes of the plots and add suitable titles.\n",
    "\n",
    "In addition, calculate and print the Pearson correlation of each feature pair (you can also add the correlation to the title of the plot for a better overview). For calculation, use for example:\n",
    "\n",
    "https://docs.scipy.org/doc/scipy-0.14.0/reference/generated/scipy.stats.pearsonr.html\n",
    "\n",
    "https://pandas.pydata.org/pandas-docs/stable/generated/pandas.Series.corr.html"
   ]
  },
  {
   "cell_type": "code",
   "execution_count": 17,
   "metadata": {
    "id": "3Djxl8sM-PDd"
   },
   "outputs": [
    {
     "ename": "ValueError",
     "evalue": "shapes (18278,1) and (18278,1) not aligned: 1 (dim 1) != 18278 (dim 0)",
     "output_type": "error",
     "traceback": [
      "\u001b[0;31m---------------------------------------------------------------------------\u001b[0m",
      "\u001b[0;31mValueError\u001b[0m                                Traceback (most recent call last)",
      "\u001b[0;32m/tmp/ipykernel_20180/1660068407.py\u001b[0m in \u001b[0;36m<module>\u001b[0;34m\u001b[0m\n\u001b[1;32m      4\u001b[0m \u001b[0mxAxis1Label\u001b[0m \u001b[0;34m=\u001b[0m \u001b[0;34m'gk_position'\u001b[0m\u001b[0;34m\u001b[0m\u001b[0;34m\u001b[0m\u001b[0m\n\u001b[1;32m      5\u001b[0m \u001b[0myAxis1Label\u001b[0m \u001b[0;34m=\u001b[0m \u001b[0;34m'gk_handling'\u001b[0m\u001b[0;34m\u001b[0m\u001b[0;34m\u001b[0m\u001b[0m\n\u001b[0;32m----> 6\u001b[0;31m \u001b[0mtitle1\u001b[0m \u001b[0;34m=\u001b[0m \u001b[0mpearsonr\u001b[0m\u001b[0;34m(\u001b[0m\u001b[0mxAxis1\u001b[0m \u001b[0;34m,\u001b[0m \u001b[0myAxis1\u001b[0m\u001b[0;34m)\u001b[0m\u001b[0;34m\u001b[0m\u001b[0;34m\u001b[0m\u001b[0m\n\u001b[0m\u001b[1;32m      7\u001b[0m \u001b[0;34m\u001b[0m\u001b[0m\n\u001b[1;32m      8\u001b[0m \u001b[0mxAxis2\u001b[0m \u001b[0;34m=\u001b[0m \u001b[0mdf\u001b[0m\u001b[0;34m[\u001b[0m\u001b[0;34m[\u001b[0m\u001b[0;34m'height_cm'\u001b[0m\u001b[0;34m]\u001b[0m\u001b[0;34m]\u001b[0m\u001b[0;34m\u001b[0m\u001b[0;34m\u001b[0m\u001b[0m\n",
      "\u001b[0;32m~/anaconda3/envs/bda/lib/python3.9/site-packages/scipy/stats/stats.py\u001b[0m in \u001b[0;36mpearsonr\u001b[0;34m(x, y)\u001b[0m\n\u001b[1;32m   4053\u001b[0m         \u001b[0mwarnings\u001b[0m\u001b[0;34m.\u001b[0m\u001b[0mwarn\u001b[0m\u001b[0;34m(\u001b[0m\u001b[0mPearsonRNearConstantInputWarning\u001b[0m\u001b[0;34m(\u001b[0m\u001b[0;34m)\u001b[0m\u001b[0;34m)\u001b[0m\u001b[0;34m\u001b[0m\u001b[0;34m\u001b[0m\u001b[0m\n\u001b[1;32m   4054\u001b[0m \u001b[0;34m\u001b[0m\u001b[0m\n\u001b[0;32m-> 4055\u001b[0;31m     \u001b[0mr\u001b[0m \u001b[0;34m=\u001b[0m \u001b[0mnp\u001b[0m\u001b[0;34m.\u001b[0m\u001b[0mdot\u001b[0m\u001b[0;34m(\u001b[0m\u001b[0mxm\u001b[0m\u001b[0;34m/\u001b[0m\u001b[0mnormxm\u001b[0m\u001b[0;34m,\u001b[0m \u001b[0mym\u001b[0m\u001b[0;34m/\u001b[0m\u001b[0mnormym\u001b[0m\u001b[0;34m)\u001b[0m\u001b[0;34m\u001b[0m\u001b[0;34m\u001b[0m\u001b[0m\n\u001b[0m\u001b[1;32m   4056\u001b[0m \u001b[0;34m\u001b[0m\u001b[0m\n\u001b[1;32m   4057\u001b[0m     \u001b[0;31m# Presumably, if abs(r) > 1, then it is only some small artifact of\u001b[0m\u001b[0;34m\u001b[0m\u001b[0;34m\u001b[0m\u001b[0m\n",
      "\u001b[0;32m<__array_function__ internals>\u001b[0m in \u001b[0;36mdot\u001b[0;34m(*args, **kwargs)\u001b[0m\n",
      "\u001b[0;31mValueError\u001b[0m: shapes (18278,1) and (18278,1) not aligned: 1 (dim 1) != 18278 (dim 0)"
     ]
    }
   ],
   "source": [
    "#TODO: Make scatter plots, calculate the Pearson correlation, think about it.\n",
    "xAxis1 = df[['goalkeeping_handling']] \n",
    "yAxis1 = df[['goalkeeping_positioning']]\n",
    "xAxis1Label = 'gk_position'\n",
    "yAxis1Label = 'gk_handling'\n",
    "title1 = pearsonr(xAxis1 , yAxis1)\n",
    "\n",
    "xAxis2 = df[['height_cm']]\n",
    "yAxis2 = df[['gk_speed']]\n",
    "xAxis2Label = 'height_cm'\n",
    "yAxis2Label = 'gk_speed'\n",
    "title2 = 'ScatterPlot_gk_height_vs_speed'\n",
    "plt.scatter(xAxis1, yAxis1)\n",
    "plt.title(title1)\n",
    "plt.xlabel(xAxis1Label)\n",
    "plt.ylabel(yAxis1Label)\n",
    "plt.show()\n",
    "\n",
    "plt.scatter(xAxis2, yAxis2)\n",
    "plt.title(title2)\n",
    "plt.xlabel(xAxis2Label)\n",
    "plt.ylabel(yAxis2Label)\n",
    "plt.show()\n",
    "\n"
   ]
  },
  {
   "cell_type": "markdown",
   "metadata": {
    "id": "iTCRuQiQ-PDe"
   },
   "source": [
    "### investigate distributions\n",
    "\n",
    "Create a histogram of the feature *defending* using 75 bins and the parameter *normed = True*. In addition, plot a normal distribution with the same mean and variance as line plot into the same diagram (it is recommended to use different colors).\n",
    "For plotting the normal distribution you can use:\n",
    "\n",
    "https://docs.scipy.org/doc/numpy-1.13.0/reference/generated/numpy.linspace.html\n",
    "\n",
    "https://docs.scipy.org/doc/scipy-0.16.1/reference/generated/scipy.stats.norm.html\n",
    "\n",
    "What do you observe?"
   ]
  },
  {
   "cell_type": "code",
   "execution_count": 19,
   "metadata": {
    "id": "nRuHmLUi-PDe",
    "scrolled": false
   },
   "outputs": [],
   "source": [
    "#TODO: Compute mean and standard deviation, plot both charts in one diagram, what can you see?"
   ]
  },
  {
   "cell_type": "code",
   "execution_count": null,
   "metadata": {},
   "outputs": [],
   "source": []
  }
 ],
 "metadata": {
  "colab": {
   "collapsed_sections": [],
   "name": "Exercise_4(3).ipynb",
   "provenance": []
  },
  "kernelspec": {
   "display_name": "Python [conda env:bda]",
   "language": "python",
   "name": "conda-env-bda-py"
  },
  "language_info": {
   "codemirror_mode": {
    "name": "ipython",
    "version": 3
   },
   "file_extension": ".py",
   "mimetype": "text/x-python",
   "name": "python",
   "nbconvert_exporter": "python",
   "pygments_lexer": "ipython3",
   "version": "3.9.7"
  }
 },
 "nbformat": 4,
 "nbformat_minor": 1
}
