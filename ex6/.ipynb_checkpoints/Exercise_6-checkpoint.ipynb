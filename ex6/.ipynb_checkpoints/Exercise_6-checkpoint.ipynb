{
 "cells": [
  {
   "cell_type": "markdown",
   "metadata": {
    "id": "Nq0XnD3HIsG4"
   },
   "source": [
    "## Exercise 6: PCA\n"
   ]
  },
  {
   "cell_type": "code",
   "execution_count": 1,
   "metadata": {
    "id": "aQDA_Z9jIsG9"
   },
   "outputs": [],
   "source": [
    "import numpy as np\n",
    "import pandas as pd\n",
    "\n",
    "from sklearn.decomposition import PCA\n",
    "from sklearn.preprocessing import scale\n",
    "\n",
    "%matplotlib inline"
   ]
  },
  {
   "cell_type": "code",
   "execution_count": 3,
   "metadata": {
    "id": "9P-49_h8IsG_"
   },
   "outputs": [],
   "source": [
    "df = pd.read_csv('data/players_20.csv')#Change path according to your files"
   ]
  },
  {
   "cell_type": "markdown",
   "metadata": {
    "id": "220QrYYYDL8G"
   },
   "source": [
    "### PCA\n",
    "\n",
    "A common method for dimensionality reduction is the Principal Component Analysis, which is also known from the lecture:\n",
    "\n",
    "https://en.wikipedia.org/wiki/Principal_component_analysis\n",
    "\n",
    "Create scatter plots of the features 'Dribbling' and 'Ball control', then apply z-normalization to both features, and finally applying PCA to the normalized 2-d data (keep both dimensions after the transformation). \n",
    "\n",
    "http://scikit-learn.org/stable/modules/generated/sklearn.preprocessing.scale.html#sklearn.preprocessing.scale\n",
    "\n",
    "http://scikit-learn.org/stable/modules/generated/sklearn.decomposition.PCA.html\n",
    "\n",
    "What is the amount of variance explained by each of the selected components? \n",
    "\n",
    "What is the percentage of variance explained by the remining component, if we reduce the dimensionality of the 2-d dataset to 1-d with PCA?"
   ]
  },
  {
   "cell_type": "code",
   "execution_count": null,
   "metadata": {
    "id": "exR01ZV8CnQd"
   },
   "outputs": [],
   "source": [
    "#TODO: make scatter plots of the original normalized and the transformed data"
   ]
  },
  {
   "cell_type": "code",
   "execution_count": null,
   "metadata": {
    "id": "vUl5jROcF24k"
   },
   "outputs": [],
   "source": [
    "# TODO: output the amount of explained variance of each component and remining variance after dimensionality reduction"
   ]
  }
 ],
 "metadata": {
  "colab": {
   "collapsed_sections": [],
   "name": "Exercise_6.ipynb",
   "provenance": []
  },
  "kernelspec": {
   "display_name": "Python 3",
   "language": "python",
   "name": "python3"
  },
  "language_info": {
   "codemirror_mode": {
    "name": "ipython",
    "version": 3
   },
   "file_extension": ".py",
   "mimetype": "text/x-python",
   "name": "python",
   "nbconvert_exporter": "python",
   "pygments_lexer": "ipython3",
   "version": "3.8.8"
  }
 },
 "nbformat": 4,
 "nbformat_minor": 1
}
