{
 "cells": [
  {
   "cell_type": "markdown",
   "metadata": {
    "id": "Nq0XnD3HIsG4"
   },
   "source": [
    "## Exercise 6: PCA\n"
   ]
  },
  {
   "cell_type": "code",
   "execution_count": 1,
   "metadata": {
    "id": "aQDA_Z9jIsG9"
   },
   "outputs": [],
   "source": [
    "import numpy as np\n",
    "import pandas as pd\n",
    "import matplotlib.pyplot as plt\n",
    "\n",
    "from sklearn.decomposition import PCA\n",
    "from sklearn.preprocessing import scale\n",
    "\n",
    "%matplotlib inline"
   ]
  },
  {
   "cell_type": "code",
   "execution_count": 2,
   "metadata": {
    "id": "9P-49_h8IsG_"
   },
   "outputs": [],
   "source": [
    "df = pd.read_csv('data/players_20.csv')#Change path according to your files\n"
   ]
  },
  {
   "cell_type": "markdown",
   "metadata": {
    "id": "220QrYYYDL8G"
   },
   "source": [
    "### PCA\n",
    "\n",
    "A common method for dimensionality reduction is the Principal Component Analysis, which is also known from the lecture:\n",
    "\n",
    "https://en.wikipedia.org/wiki/Principal_component_analysis\n",
    "\n",
    "Create scatter plots of the features 'Dribbling' and 'Ball control', then apply z-normalization to both features, and finally applying PCA to the normalized 2-d data (keep both dimensions after the transformation). \n",
    "\n",
    "http://scikit-learn.org/stable/modules/generated/sklearn.preprocessing.scale.html#sklearn.preprocessing.scale\n",
    "\n",
    "http://scikit-learn.org/stable/modules/generated/sklearn.decomposition.PCA.html\n",
    "\n",
    "What is the amount of variance explained by each of the selected components? \n",
    "\n",
    "What is the percentage of variance explained by the remining component, if we reduce the dimensionality of the 2-d dataset to 1-d with PCA?"
   ]
  },
  {
   "cell_type": "code",
   "execution_count": 78,
   "metadata": {
    "id": "exR01ZV8CnQd"
   },
   "outputs": [
    {
     "data": {
      "image/png": "[encoded data removed]",
      "text/plain": [
       "<Figure size 432x288 with 1 Axes>"
      ]
     },
     "metadata": {
      "needs_background": "light"
     },
     "output_type": "display_data"
    },
    {
     "name": "stdout",
     "output_type": "stream",
     "text": [
      "       principalComponent1  principalComponent2\n",
      "0                -4.622923             0.020767\n",
      "1                -3.857437             0.217833\n",
      "2                -4.483117             0.018468\n",
      "3                -4.343310             0.016169\n",
      "4                -3.580123             0.353041\n",
      "...                    ...                  ...\n",
      "16237             4.042773             0.018039\n",
      "16238             4.189476            -0.403679\n",
      "16239             2.222991             0.187732\n",
      "16240             2.085484             0.050225\n",
      "16241             2.436149            -0.025426\n",
      "\n",
      "[16242 rows x 2 columns]\n",
      "\n",
      "\n",
      "variance explanation: \n",
      "[0.96054923 0.03945077]\n",
      "\n",
      "\n",
      "After reducing dimesionality we loss\n",
      "3.94507723355843\n",
      "% data\n"
     ]
    }
   ],
   "source": [
    "#TODO: make scatter plots of the original normalized and the transformed data\n",
    "\n",
    "# Generate ScatterPlot\n",
    "df = df.dropna(subset=['dribbling', 'skill_ball_control'])\n",
    "\n",
    "dribblingY = df['dribbling']\n",
    "ballControlX = df['skill_ball_control']\n",
    "newDf = df[['dribbling', 'skill_ball_control']]\n",
    "plt.scatter(ballControlX, dribblingY)\n",
    "plt.title('Players')\n",
    "plt.xlabel('Ball Control')\n",
    "plt.ylabel('Dribbling')\n",
    "plt.show()\n",
    "\n",
    "##applying z-score in both features\n",
    "def z_score(df):\n",
    "    df.columns = [x + \"_zscore\" for x in df.columns.tolist()]\n",
    "    return ((df - df.mean())/df.std(ddof=0))\n",
    "\n",
    "newDfWithZScore = z_score(newDf)\n",
    "# newDfWithZScore\n",
    "\n",
    "##applying PCA\n",
    "pca = PCA(n_components=2)\n",
    "principalComponents = pca.fit_transform(newDfWithZScore)\n",
    "\n",
    "finalDf = pd.DataFrame(data = principalComponents\n",
    "             , columns = ['principalComponent1', 'principalComponent2'])\n",
    "\n",
    "print(finalDf)\n",
    "print('\\n')\n",
    "\n",
    "##variance explained \n",
    "print('variance explanation: ')\n",
    "explainedVariance = pca.explained_variance_ratio_\n",
    "print(explainedVariance)\n",
    "print('\\n')\n",
    "\n",
    "\n",
    "# What is the percentage of variance explained by the remining component, if we reduce the dimensionality of the 2-d dataset to 1-d with PCA?\n",
    "\n",
    "def valueLossPercentage(data):\n",
    "    response =  (data.min() / np.sum(data)) * 100\n",
    "    return response\n",
    "\n",
    "result = valueLossPercentage(explainedVariance)\n",
    "\n",
    "print('After reducing dimesionality we loss')\n",
    "print(result)\n"
   ]
  },
  {
   "cell_type": "code",
   "execution_count": null,
   "metadata": {
    "id": "vUl5jROcF24k"
   },
   "outputs": [],
   "source": [
    "# TODO: output the amount of explained variance of each component and remining variance after dimensionality reduction\n"
   ]
  }
 ],
 "metadata": {
  "colab": {
   "collapsed_sections": [],
   "name": "Exercise_6.ipynb",
   "provenance": []
  },
  "kernelspec": {
   "display_name": "Python [conda env:bda]",
   "language": "python",
   "name": "conda-env-bda-py"
  },
  "language_info": {
   "codemirror_mode": {
    "name": "ipython",
    "version": 3
   },
   "file_extension": ".py",
   "mimetype": "text/x-python",
   "name": "python",
   "nbconvert_exporter": "python",
   "pygments_lexer": "ipython3",
   "version": "3.9.7"
  }
 },
 "nbformat": 4,
 "nbformat_minor": 1
}
