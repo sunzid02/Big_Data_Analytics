{
 "cells": [
  {
   "cell_type": "markdown",
   "metadata": {},
   "source": [
    "# Sheet 3 - Practical Exercise"
   ]
  },
  {
   "cell_type": "code",
   "execution_count": 1,
   "metadata": {},
   "outputs": [],
   "source": [
    "#Import packages and Dataset\n",
    "import numpy as np\n",
    "import pandas as pd\n",
    "\n",
    "fifa20 = pd.read_csv(\"data/fifa_20.csv\")#Change path according to your files"
   ]
  },
  {
   "cell_type": "markdown",
   "metadata": {},
   "source": [
    "Take the following SQL-Queries and use Pandas to achieve the same result."
   ]
  },
  {
   "cell_type": "markdown",
   "metadata": {},
   "source": [
    "### First Query\n",
    "```sql\n",
    "SELECT short_name, overall, value_eur, wage_eur \n",
    "FROM fifa_20 \n",
    "WHERE overall > 80 and club = 'Borussia Dortmund'\n",
    "``` "
   ]
  },
  {
   "cell_type": "code",
   "execution_count": 2,
   "metadata": {},
   "outputs": [],
   "source": [
    "#Recreate the first query with pandas"
   ]
  },
  {
   "cell_type": "markdown",
   "metadata": {},
   "source": [
    "### Second Query\n",
    "```sql\n",
    "SELECT short_name, overall \n",
    "FROM fifa_20 \n",
    "WHERE club in ('Borussia Dortmund','FC Bayern München') and nationality = 'France'\n",
    "``` "
   ]
  },
  {
   "cell_type": "code",
   "execution_count": 3,
   "metadata": {},
   "outputs": [],
   "source": [
    "#Recreate the second query with pandas"
   ]
  },
  {
   "cell_type": "markdown",
   "metadata": {},
   "source": [
    "### Third Query\n",
    "```sql\n",
    "SELECT nationality, count(*) \n",
    "FROM fifa_20 \n",
    "GROUP BY nationality \n",
    "ORDER BY count\n",
    "``` "
   ]
  },
  {
   "cell_type": "code",
   "execution_count": 4,
   "metadata": {},
   "outputs": [],
   "source": [
    "#Recreate the third query with pandas"
   ]
  },
  {
   "cell_type": "markdown",
   "metadata": {},
   "source": [
    "### Fourth Query\n",
    "```sql\n",
    "SELECT club, count(*) \n",
    "FROM fifa20 \n",
    "WHERE potential > 85 \n",
    "GROUP BY club having count(*) > 10\n",
    "ORDER BY count(*) desc\n",
    "``` "
   ]
  },
  {
   "cell_type": "code",
   "execution_count": 5,
   "metadata": {},
   "outputs": [],
   "source": [
    "#Recreate the fourth query with pandas"
   ]
  },
  {
   "cell_type": "markdown",
   "metadata": {},
   "source": [
    "### Fifth Query\n",
    "For the last query we create two additional dataframes that you have to join"
   ]
  },
  {
   "cell_type": "code",
   "execution_count": 6,
   "metadata": {},
   "outputs": [],
   "source": [
    "#Do NOT change this code \n",
    "player_values = fifa20[['short_name','club','age','height_cm','weight_kg']]\n",
    "fifa_club = fifa20[['short_name','club','overall','potential']]"
   ]
  },
  {
   "cell_type": "markdown",
   "metadata": {},
   "source": [
    "```sql\n",
    "SELECT short_name, age, overall \n",
    "FROM player_values JOIN fifa_club on fifa_club.short_name = player_values.short_name\n",
    "WHERE fifa_club.club == 'Borussia Dortmund'\n",
    "``` "
   ]
  },
  {
   "cell_type": "code",
   "execution_count": 7,
   "metadata": {},
   "outputs": [],
   "source": [
    "#Recreate the fifth query with pandas"
   ]
  }
 ],
 "metadata": {
  "kernelspec": {
   "display_name": "Python 3",
   "language": "python",
   "name": "python3"
  },
  "language_info": {
   "codemirror_mode": {
    "name": "ipython",
    "version": 3
   },
   "file_extension": ".py",
   "mimetype": "text/x-python",
   "name": "python",
   "nbconvert_exporter": "python",
   "pygments_lexer": "ipython3",
   "version": "3.8.8"
  }
 },
 "nbformat": 4,
 "nbformat_minor": 4
}
