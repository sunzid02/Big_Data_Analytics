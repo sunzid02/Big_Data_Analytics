{
 "cells": [
  {
   "cell_type": "code",
   "execution_count": 1,
   "metadata": {},
   "outputs": [],
   "source": [
    "%load_ext autoreload\n",
    "%autoreload 2"
   ]
  },
  {
   "cell_type": "code",
   "execution_count": 3,
   "metadata": {},
   "outputs": [],
   "source": [
    "import numpy as np\n",
    "import pandas as pd\n",
    "import matplotlib.pyplot as plt"
   ]
  },
  {
   "cell_type": "markdown",
   "metadata": {},
   "source": [
    "In this week's exercise we explore the clustering method k-Means. First, the simplicity of implementing k-Means is shown, then different initialization techniques are compared."
   ]
  },
  {
   "cell_type": "markdown",
   "metadata": {},
   "source": [
    "## 1 The k-Means algorithm\n",
    "\n",
    "Implement the two parts of the algorithm: cluster assignment and mean calculation.\n",
    "\n",
    "**\\_update\\_clusters**\n",
    "- As parameters, the function gets a DataFrame ($n \\times d$) containing the dataset ($n$ samples with $d$ dimensions), and a DataFrame ($k \\times d$) containing the $k$ mean vectors\n",
    "- It returns an array of length $n$, containing a cluster label for each sample (row) of the data set \n",
    "\n",
    "**\\_update\\_means**\n",
    "- This function gets the DataFrame ($n \\times d$) containing the dataset as well as an array of length $n$ containing the cluster label of each sample as parameters\n",
    "- It returns a DataFrame of size $k \\times d$ with the $k$ updated mean vectors \n",
    "\n",
    "<br>\n",
    "Some Hints:\n",
    "<ul>\n",
    "<li><a href=https://docs.scipy.org/doc/scipy-0.19.0/reference/generated/scipy.spatial.distance.cdist.html>scipy.spatial.distance.cdist</a></li>\n",
    "<li><a href=https://docs.scipy.org/doc/numpy-1.13.0/reference/generated/numpy.argmin.html>numpy.argmin</a></li>\n",
    "<li><a href=https://pandas.pydata.org/pandas-docs/stable/generated/pandas.DataFrame.groupby.html>pandas.DataFrame.groupby</a></li>\n",
    "</ul>\n",
    "\n",
    "Feel free to add import statements! "
   ]
  },
  {
   "cell_type": "code",
   "execution_count": 4,
   "metadata": {},
   "outputs": [],
   "source": [
    "# Implement _update_clusters and _update_means\n",
    "\n",
    "def myKMeans(data, k, iterations):\n",
    "    means = _init_means(data, k)\n",
    "    clusters = _update_clusters(data, means)\n",
    "\n",
    "    for i in range(iterations):\n",
    "        means = _update_means(data, clusters)\n",
    "        clusters = _update_clusters(data, means)\n",
    "\n",
    "    return clusters\n",
    "\n",
    "\n",
    "def _init_means(data, k):\n",
    "    min_values = data.min()\n",
    "    max_values = data.max()\n",
    "    means = np.random.uniform(min_values, max_values, (k, data.shape[1]))\n",
    "    return means\n",
    "\n",
    "\n",
    "def _update_clusters(data, means):\n",
    "    # Implement _update_clusters\n",
    "    return 0\n",
    "\n",
    "\n",
    "def _update_means(data, clusters):\n",
    "    # Implement _update_means\n",
    "    return 0"
   ]
  },
  {
   "cell_type": "markdown",
   "metadata": {},
   "source": [
    "Test your implementation by clustering the features ``mentality_interceptions`` and ``power_long_shots``. <br>\n",
    "Try different values for $k$ and visualize the results. Which $k$ seems to produce the best result?  \n",
    "Also calculate the [Silhouette Coefficient](http://scikit-learn.org/stable/modules/generated/sklearn.metrics.silhouette_score.html). Does it confirm your intuition?"
   ]
  },
  {
   "cell_type": "code",
   "execution_count": null,
   "metadata": {},
   "outputs": [],
   "source": [
    "# Use your k-Means implementation and visualize the results. Print the silhouette score."
   ]
  },
  {
   "cell_type": "markdown",
   "metadata": {},
   "source": [
    "## 2 Different initializations of k-Means\n",
    "\n",
    "Take a look at the influence of different initializations of the k-Means algorithm. For this purpose, compare random initialization with the [*k-means++* initialization algorithm](https://en.wikipedia.org/wiki/K-means%2B%2B). Use the [sklearn implementation of k-Means](http://scikit-learn.org/stable/modules/generated/sklearn.cluster.KMeans.html) and run the algorithm with: \n",
    "- `1, 2, 3, 4, 5, 10, 20` as the maximum number of iterations (`max_iter`)\n",
    "- `10` initializations each (`n_init`)\n",
    "- and a convergence tolerance of `0` (`tol`).\n",
    "\n",
    "For both initialization methods, plot the final value of the objective function (`inertia_`) against the number of iterations in line plots of different colors.\n",
    "\n",
    "What do you observe?"
   ]
  },
  {
   "cell_type": "code",
   "execution_count": null,
   "metadata": {},
   "outputs": [],
   "source": [
    "# Use the sklearn implementation of k-Means and plot the objective function for both initialization methods.\n",
    "\n",
    "iterations = [1, 2, 3, 4, 5, 10, 20]\n",
    "\n",
    "objective = pd.Series(data=0, index=iterations)\n",
    "objective_pp = pd.Series(data=0, index=iterations)\n",
    "\n",
    "for i in iterations:\n",
    "    # Add code here\n",
    "    \n",
    "plt.plot(objective.index, objective, 'b-')\n",
    "plt.plot(objective_pp.index, objective_pp, 'r-')\n",
    "plt.title('objective functions for different initializations')\n",
    "plt.xlabel('iterations')\n",
    "plt.ylabel('objective')\n",
    "plt.show()"
   ]
  }
 ],
 "metadata": {
  "kernelspec": {
   "display_name": "Python 3",
   "language": "python",
   "name": "python3"
  },
  "language_info": {
   "codemirror_mode": {
    "name": "ipython",
    "version": 3
   },
   "file_extension": ".py",
   "mimetype": "text/x-python",
   "name": "python",
   "nbconvert_exporter": "python",
   "pygments_lexer": "ipython3",
   "version": "3.8.8"
  }
 },
 "nbformat": 4,
 "nbformat_minor": 2
}
